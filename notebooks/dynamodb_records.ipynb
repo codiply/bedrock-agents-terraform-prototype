{
 "cells": [
  {
   "cell_type": "code",
   "execution_count": null,
   "id": "1faa7f53-58a0-4081-a926-44750135b4af",
   "metadata": {},
   "outputs": [],
   "source": [
    "import boto3\n",
    "import pandas as pd\n",
    "from tabulate import tabulate"
   ]
  },
  {
   "cell_type": "code",
   "execution_count": null,
   "id": "f17ac60b-62c0-44f9-a71d-dc807b76cb08",
   "metadata": {},
   "outputs": [],
   "source": [
    "region_name=\"us-east-1\""
   ]
  },
  {
   "cell_type": "code",
   "execution_count": null,
   "id": "54114b4e-60a3-4670-bd38-fdf9546726d6",
   "metadata": {},
   "outputs": [],
   "source": [
    "dynamo_client = boto3.client(\"dynamodb\", region_name=region_name)\n",
    "dynamo_resource = boto3.resource(\"dynamodb\", region_name=region_name)"
   ]
  },
  {
   "cell_type": "code",
   "execution_count": null,
   "id": "9d3cef13-5e3a-4c2d-b4d9-ed2ae28bc13c",
   "metadata": {},
   "outputs": [],
   "source": [
    "reservations_table_name = next(t for t in dynamo_client.list_tables()[\"TableNames\"] if \"bedrock-agents-cdk\" in t and \"restaurantreservations\" in t and \"v2\" in t)"
   ]
  },
  {
   "cell_type": "code",
   "execution_count": null,
   "id": "2e1ccd06-7ca4-4dbf-9287-255d752ba8e0",
   "metadata": {},
   "outputs": [],
   "source": [
    "sql_queries_table_name = next(t for t in dynamo_client.list_tables()[\"TableNames\"] if \"bedrock-agents-cdk\" in t and \"sqlqueries\" in t and \"v2\" in t)"
   ]
  },
  {
   "cell_type": "code",
   "execution_count": null,
   "id": "835b7643-024d-44f9-af8f-991b57c17368",
   "metadata": {},
   "outputs": [],
   "source": [
    "reservations_table = dynamo_resource.Table(reservations_table_name)\n",
    "sql_queries_table = dynamo_resource.Table(sql_queries_table_name)"
   ]
  },
  {
   "cell_type": "code",
   "execution_count": null,
   "id": "a0c95d2f-910c-4bbe-9511-5c4395c6e7b3",
   "metadata": {},
   "outputs": [],
   "source": [
    "def truncate_table(table_name):\n",
    "    table = dynamo_resource.Table(table_name)\n",
    "    \n",
    "    #get the table keys\n",
    "    tableKeyNames = [key.get(\"AttributeName\") for key in table.key_schema]\n",
    "\n",
    "    #Only retrieve the keys for each item in the table (minimize data transfer)\n",
    "    projectionExpression = \", \".join('#' + key for key in tableKeyNames)\n",
    "    expressionAttrNames = {'#'+key: key for key in tableKeyNames}\n",
    "    \n",
    "    counter = 0\n",
    "    page = table.scan(ProjectionExpression=projectionExpression, ExpressionAttributeNames=expressionAttrNames)\n",
    "    with table.batch_writer() as batch:\n",
    "        while page[\"Count\"] > 0:\n",
    "            counter += page[\"Count\"]\n",
    "            # Delete items in batches\n",
    "            for itemKeys in page[\"Items\"]:\n",
    "                batch.delete_item(Key=itemKeys)\n",
    "            # Fetch the next page\n",
    "            if 'LastEvaluatedKey' in page:\n",
    "                page = table.scan(\n",
    "                    ProjectionExpression=projectionExpression, ExpressionAttributeNames=expressionAttrNames,\n",
    "                    ExclusiveStartKey=page['LastEvaluatedKey'])\n",
    "            else:\n",
    "                break\n",
    "    print(f\"Deleted {counter}\")"
   ]
  },
  {
   "cell_type": "code",
   "execution_count": null,
   "id": "08b91de5-444e-4cfb-a79e-b211bb443f08",
   "metadata": {},
   "outputs": [],
   "source": []
  },
  {
   "cell_type": "code",
   "execution_count": null,
   "id": "afad171c-eecc-459e-8d6a-ba6f112c24ad",
   "metadata": {},
   "outputs": [],
   "source": [
    "df = pd.DataFrame(reservations_table.scan()[\"Items\"])\n",
    "print(tabulate(df, headers='keys', tablefmt='psql', showindex=False))"
   ]
  },
  {
   "cell_type": "code",
   "execution_count": null,
   "id": "9443f2a8-2db5-4a35-b41f-8e6848e2b974",
   "metadata": {},
   "outputs": [],
   "source": [
    "df = pd.DataFrame(sql_queries_table.scan()[\"Items\"])\n",
    "if df.shape[0]:\n",
    "  df = df.sort_values(\"timestamp_utc\")\n",
    "print(tabulate(df, headers='keys', tablefmt='psql', showindex=False))"
   ]
  },
  {
   "cell_type": "code",
   "execution_count": null,
   "id": "cb684091-4505-4adc-a44d-2c4e23e86251",
   "metadata": {},
   "outputs": [],
   "source": [
    "# truncate_table(reservations_table_name)\n",
    "# truncate_table(sql_queries_table_name)"
   ]
  },
  {
   "cell_type": "code",
   "execution_count": null,
   "id": "5c956466-8a98-4ef2-9b7c-b4c4df32f62d",
   "metadata": {},
   "outputs": [],
   "source": []
  }
 ],
 "metadata": {
  "kernelspec": {
   "display_name": "Python 3 (ipykernel)",
   "language": "python",
   "name": "python3"
  },
  "language_info": {
   "codemirror_mode": {
    "name": "ipython",
    "version": 3
   },
   "file_extension": ".py",
   "mimetype": "text/x-python",
   "name": "python",
   "nbconvert_exporter": "python",
   "pygments_lexer": "ipython3",
   "version": "3.11.6"
  }
 },
 "nbformat": 4,
 "nbformat_minor": 5
}
