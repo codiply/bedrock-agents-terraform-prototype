{
 "cells": [
  {
   "cell_type": "code",
   "execution_count": null,
   "id": "97b38149-b211-48bc-8e79-3a754bf8a3f3",
   "metadata": {},
   "outputs": [],
   "source": [
    "import json\n",
    "import pandas as pd\n",
    "from pandasql import sqldf"
   ]
  },
  {
   "cell_type": "code",
   "execution_count": null,
   "id": "dd431fea-f26a-441c-8dd0-89f14a6cfa52",
   "metadata": {},
   "outputs": [],
   "source": [
    "with open(\"../data/restaurants-v2/restaurant-metadata.json\") as f:\n",
    "    metadata_json = json.load(f)"
   ]
  },
  {
   "cell_type": "code",
   "execution_count": null,
   "id": "40375e7f-790b-44a4-9481-493e24023b06",
   "metadata": {},
   "outputs": [],
   "source": [
    "def metadata_for_restaurant(restaurant_name):\n",
    "    return next(iter(metadata_json), lambda m: m[\"restaurant_name\"] == restaurant_name)"
   ]
  },
  {
   "cell_type": "code",
   "execution_count": null,
   "id": "b493671a-6a91-46d6-81d6-c98dd50e41ff",
   "metadata": {},
   "outputs": [],
   "source": [
    "metadata_for_restaurant(\"GreatTokyoExpress\")"
   ]
  },
  {
   "cell_type": "code",
   "execution_count": null,
   "id": "6320aa5b-48ea-41d1-93f5-f2e4c3f420c7",
   "metadata": {},
   "outputs": [],
   "source": [
    "df = pd.DataFrame(metadata_json)"
   ]
  },
  {
   "cell_type": "code",
   "execution_count": null,
   "id": "2d4f0402-dc90-466d-82ed-dab736eb8b88",
   "metadata": {},
   "outputs": [],
   "source": [
    "restaurants = df.copy()\n",
    "restaurants[\"dishes\"] = restaurants[\"dishes\"].apply(lambda dishes: ', '.join(dishes))\n",
    "# metadata"
   ]
  },
  {
   "cell_type": "code",
   "execution_count": null,
   "id": "46515b81-c6bb-455a-aca3-377b09844776",
   "metadata": {},
   "outputs": [],
   "source": [
    "sqldf(\n",
    "    \"\"\"\n",
    "SELECT *\n",
    "FROM restaurants\n",
    "LIMIT 10\n",
    "    \"\"\")"
   ]
  },
  {
   "cell_type": "code",
   "execution_count": null,
   "id": "394e65db-62b7-4a30-bdf9-37f5615da730",
   "metadata": {},
   "outputs": [],
   "source": [
    "sqldf(\n",
    "    \"\"\"\n",
    "WITH tmp AS\n",
    "(\n",
    "   SELECT *,\n",
    "         ROW_NUMBER() OVER (PARTITION BY district_name ORDER BY average_price_per_person DESC) AS rn\n",
    "   FROM restaurants\n",
    ")\n",
    "SELECT *\n",
    "FROM tmp\n",
    "WHERE rn = 1\n",
    "    \"\"\")"
   ]
  },
  {
   "cell_type": "code",
   "execution_count": null,
   "id": "b52d6cf7-97c6-465d-9e0d-4ddd7afba4b2",
   "metadata": {},
   "outputs": [],
   "source": []
  }
 ],
 "metadata": {
  "kernelspec": {
   "display_name": "Python 3 (ipykernel)",
   "language": "python",
   "name": "python3"
  },
  "language_info": {
   "codemirror_mode": {
    "name": "ipython",
    "version": 3
   },
   "file_extension": ".py",
   "mimetype": "text/x-python",
   "name": "python",
   "nbconvert_exporter": "python",
   "pygments_lexer": "ipython3",
   "version": "3.11.6"
  }
 },
 "nbformat": 4,
 "nbformat_minor": 5
}
